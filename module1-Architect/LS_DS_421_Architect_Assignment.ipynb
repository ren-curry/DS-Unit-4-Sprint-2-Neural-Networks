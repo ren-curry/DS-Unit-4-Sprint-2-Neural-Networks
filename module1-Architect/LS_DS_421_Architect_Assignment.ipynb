{
  "nbformat": 4,
  "nbformat_minor": 0,
  "metadata": {
    "colab": {
      "name": "LS_DS_421_Architect_Assignment.ipynb",
      "provenance": [],
      "collapsed_sections": []
    },
    "kernelspec": {
      "name": "python3",
      "display_name": "Python 3"
    },
    "accelerator": "GPU"
  },
  "cells": [
    {
      "cell_type": "markdown",
      "metadata": {
        "id": "ObyHCH8HvHSf"
      },
      "source": [
        "<img align=\"left\" src=\"https://lever-client-logos.s3.amazonaws.com/864372b1-534c-480e-acd5-9711f850815c-1524247202159.png\" width=200>\n",
        "<br></br>\n",
        "<br></br>\n",
        "\n",
        "# *Data Science Unit 4 Sprint 2 Assignment 1*\n",
        "\n",
        "Use TensorFlow Keras & a sample of the [Quickdraw dataset](https://github.com/googlecreativelab/quickdraw-dataset) to build a sketch classification model. The dataset has been sampled to only 10 classes and 10000 observations per class. Please build a baseline classification model then run a few experiments with different optimizers and learning rates. \n",
        "\n",
        "*Don't forgot to switch to GPU on Colab!*"
      ]
    },
    {
      "cell_type": "markdown",
      "metadata": {
        "id": "s-Tc3ovEyQ9b"
      },
      "source": [
        "## Load Your Data"
      ]
    },
    {
      "cell_type": "code",
      "metadata": {
        "id": "CkU0pAYCvU8o",
        "colab": {
          "base_uri": "https://localhost:8080/"
        },
        "outputId": "a7d4ced8-b9a1-487d-c629-65194c358b3e"
      },
      "source": [
        "import numpy as np\n",
        "import tensorflow as tf \n",
        "\n",
        "data = np.load('quickdraw10.npz')\n",
        "X = data['arr_0']\n",
        "y = data['arr_1']\n",
        "\n",
        "print(X.shape)\n",
        "print(y.shape)"
      ],
      "execution_count": 2,
      "outputs": [
        {
          "output_type": "stream",
          "text": [
            "(100000, 784)\n",
            "(100000,)\n"
          ],
          "name": "stdout"
        }
      ]
    },
    {
      "cell_type": "code",
      "metadata": {
        "id": "c8qsDqdqvHDd"
      },
      "source": [
        "class_names = ['apple',\n",
        " 'anvil',\n",
        " 'airplane',\n",
        " 'banana',\n",
        " 'The Eiffel Tower',\n",
        " 'The Mona Lisa',\n",
        " 'The Great Wall of China',\n",
        " 'alarm clock',\n",
        " 'ant',\n",
        " 'asparagus']"
      ],
      "execution_count": 3,
      "outputs": []
    },
    {
      "cell_type": "code",
      "metadata": {
        "id": "Owbm1EbxvA5A",
        "colab": {
          "base_uri": "https://localhost:8080/",
          "height": 289
        },
        "outputId": "30f32547-3d53-43ad-9dbd-ce26176a15cf"
      },
      "source": [
        "import matplotlib.pyplot as plt\n",
        "plt.figure(figsize=(10,5))\n",
        "start = 0\n",
        "\n",
        "for num, name in enumerate(class_names):\n",
        "    plt.subplot(2,5, num+1)\n",
        "    plt.xticks([])\n",
        "    plt.yticks([])\n",
        "    plt.grid(False)\n",
        "    plt.imshow(X[start].reshape(28,28), cmap=plt.cm.binary)\n",
        "    plt.xlabel(name)\n",
        "    start += 10000\n",
        "plt.show()"
      ],
      "execution_count": 4,
      "outputs": [
        {
          "output_type": "display_data",
          "data": {
            "image/png": "[encoded data removed]",
            "text/plain": [
              "<Figure size 720x360 with 10 Axes>"
            ]
          },
          "metadata": {
            "tags": []
          }
        }
      ]
    },
    {
      "cell_type": "code",
      "metadata": {
        "id": "c97_M1WNvTNY"
      },
      "source": [
        "# Need this line to randomly shuffle both the X & y at the same time.\n",
        "\n",
        "from sklearn.utils import shuffle\n",
        "X, y = shuffle(X, y)"
      ],
      "execution_count": 5,
      "outputs": []
    },
    {
      "cell_type": "markdown",
      "metadata": {
        "id": "jb70CbLVyK65"
      },
      "source": [
        "## Build Your Baseline Model\n",
        "Some Hints:\n",
        "\n",
        "\n",
        "*  Model should have 784 input values (like mnist)\n",
        "*  Use `sparse_categorical_crossentropy` as your loss function.\n",
        "* You need 10 neurons in your last layer for output\n",
        "* You can add as many hidden layers with as many neurons in them as you like. \n",
        "* Limit your model epochs to 30 each time you fit.\n",
        "* You can use the `validation_split` command to automatically create a training / validation dataset.  Specify a percentage such as .2 in your fit statement. \n",
        "\n"
      ]
    },
    {
      "cell_type": "code",
      "metadata": {
        "id": "zHWblzsMyNkU"
      },
      "source": [
        "import numpy\n",
        "import pandas as pd\n",
        "\n",
        "from tensorflow.keras import Sequential\n",
        "from tensorflow.keras.layers import Dense\n",
        "from tensorflow.keras.optimizers import SGD\n"
      ],
      "execution_count": 23,
      "outputs": []
    },
    {
      "cell_type": "code",
      "metadata": {
        "id": "YspPiuXU-A6N"
      },
      "source": [
        "# Define the number of neurons for our hidden layers\n",
        "def create_model(units=32, learning_rate=0.2):\n",
        "  # create model\n",
        "  model = Sequential()\n",
        "  optimizer = SGD(learning_rate=learning_rate)\n",
        "\n",
        "  # First hidden layer \n",
        "  model.add(Dense(units, # number of neurons in our hidden layer\n",
        "                  input_dim=784, # implicitly declaring the input layer  \n",
        "                  activation='relu'))  \n",
        "\n",
        "  # output layer \n",
        "  model.add(Dense(10, # 10 neurons in output layer for the number of categories\n",
        "                  activation='softmax'))\n",
        "\n",
        "  # Compile model\n",
        "  model.compile(loss='sparse_categorical_crossentropy', \n",
        "                optimizer=optimizer, \n",
        "                metrics=['accuracy'])\n",
        "  \n",
        "  return model"
      ],
      "execution_count": 24,
      "outputs": []
    },
    {
      "cell_type": "code",
      "metadata": {
        "colab": {
          "base_uri": "https://localhost:8080/"
        },
        "id": "-Iar1wql_C8T",
        "outputId": "80b4f8aa-b817-4e80-e284-0024e5fb2e1f"
      },
      "source": [
        "baseline = create_model(24, 0.25)\n",
        "\n",
        "baseline.summary()"
      ],
      "execution_count": 25,
      "outputs": [
        {
          "output_type": "stream",
          "text": [
            "Model: \"sequential_4\"\n",
            "_________________________________________________________________\n",
            "Layer (type)                 Output Shape              Param #   \n",
            "=================================================================\n",
            "dense_6 (Dense)              (None, 24)                18840     \n",
            "_________________________________________________________________\n",
            "dense_7 (Dense)              (None, 10)                250       \n",
            "=================================================================\n",
            "Total params: 19,090\n",
            "Trainable params: 19,090\n",
            "Non-trainable params: 0\n",
            "_________________________________________________________________\n"
          ],
          "name": "stdout"
        }
      ]
    },
    {
      "cell_type": "code",
      "metadata": {
        "colab": {
          "base_uri": "https://localhost:8080/"
        },
        "id": "Q0Ypx3SA_kQg",
        "outputId": "b7c3011c-6bee-4b89-b099-eec449801e09"
      },
      "source": [
        "baseline = create_model(24, 0.25).fit(X,\n",
        "                                      y,\n",
        "                                      epochs=30,\n",
        "                                      validation_split= 0.2\n",
        "                                      )"
      ],
      "execution_count": 26,
      "outputs": [
        {
          "output_type": "stream",
          "text": [
            "Epoch 1/30\n",
            "2500/2500 [==============================] - 5s 2ms/step - loss: 4753488.8509 - accuracy: 0.0998 - val_loss: 2.4053 - val_accuracy: 0.0995\n",
            "Epoch 2/30\n",
            "2500/2500 [==============================] - 5s 2ms/step - loss: 2.3045 - accuracy: 0.1010 - val_loss: 2.4046 - val_accuracy: 0.0977\n",
            "Epoch 3/30\n",
            "2500/2500 [==============================] - 4s 2ms/step - loss: 2.3045 - accuracy: 0.1004 - val_loss: 2.4068 - val_accuracy: 0.0988\n",
            "Epoch 4/30\n",
            "2500/2500 [==============================] - 4s 2ms/step - loss: 2.3044 - accuracy: 0.1019 - val_loss: 2.4056 - val_accuracy: 0.0973\n",
            "Epoch 5/30\n",
            "2500/2500 [==============================] - 4s 2ms/step - loss: 2.3046 - accuracy: 0.1008 - val_loss: 2.4045 - val_accuracy: 0.1011\n",
            "Epoch 6/30\n",
            "2500/2500 [==============================] - 4s 2ms/step - loss: 2.3044 - accuracy: 0.1005 - val_loss: 2.4051 - val_accuracy: 0.1021\n",
            "Epoch 7/30\n",
            "2500/2500 [==============================] - 4s 2ms/step - loss: 2.3044 - accuracy: 0.0999 - val_loss: 2.4049 - val_accuracy: 0.0995\n",
            "Epoch 8/30\n",
            "2500/2500 [==============================] - 4s 2ms/step - loss: 2.3044 - accuracy: 0.1002 - val_loss: 2.4063 - val_accuracy: 0.0973\n",
            "Epoch 9/30\n",
            "2500/2500 [==============================] - 4s 2ms/step - loss: 2.3044 - accuracy: 0.0994 - val_loss: 2.4050 - val_accuracy: 0.1017\n",
            "Epoch 10/30\n",
            "2500/2500 [==============================] - 5s 2ms/step - loss: 2.3044 - accuracy: 0.0995 - val_loss: 2.4046 - val_accuracy: 0.0973\n",
            "Epoch 11/30\n",
            "2500/2500 [==============================] - 5s 2ms/step - loss: 2.3045 - accuracy: 0.0982 - val_loss: 2.4044 - val_accuracy: 0.0977\n",
            "Epoch 12/30\n",
            "2500/2500 [==============================] - 4s 2ms/step - loss: 2.3045 - accuracy: 0.0999 - val_loss: 2.4051 - val_accuracy: 0.0973\n",
            "Epoch 13/30\n",
            "2500/2500 [==============================] - 4s 2ms/step - loss: 2.3045 - accuracy: 0.0993 - val_loss: 2.4040 - val_accuracy: 0.1017\n",
            "Epoch 14/30\n",
            "2500/2500 [==============================] - 4s 2ms/step - loss: 2.3045 - accuracy: 0.0973 - val_loss: 2.4049 - val_accuracy: 0.1021\n",
            "Epoch 15/30\n",
            "2500/2500 [==============================] - 4s 2ms/step - loss: 2.3045 - accuracy: 0.1000 - val_loss: 2.4053 - val_accuracy: 0.1017\n",
            "Epoch 16/30\n",
            "2500/2500 [==============================] - 5s 2ms/step - loss: 2.3045 - accuracy: 0.0992 - val_loss: 2.4069 - val_accuracy: 0.0988\n",
            "Epoch 17/30\n",
            "2500/2500 [==============================] - 4s 2ms/step - loss: 2.3045 - accuracy: 0.0977 - val_loss: 2.4045 - val_accuracy: 0.1016\n",
            "Epoch 18/30\n",
            "2500/2500 [==============================] - 4s 2ms/step - loss: 2.3045 - accuracy: 0.0990 - val_loss: 2.4038 - val_accuracy: 0.0973\n",
            "Epoch 19/30\n",
            "2500/2500 [==============================] - 4s 2ms/step - loss: 2.3044 - accuracy: 0.0986 - val_loss: 2.4047 - val_accuracy: 0.1021\n",
            "Epoch 20/30\n",
            "2500/2500 [==============================] - 5s 2ms/step - loss: 2.3044 - accuracy: 0.0966 - val_loss: 2.4050 - val_accuracy: 0.0977\n",
            "Epoch 21/30\n",
            "2500/2500 [==============================] - 5s 2ms/step - loss: 2.3043 - accuracy: 0.1025 - val_loss: 2.4065 - val_accuracy: 0.0988\n",
            "Epoch 22/30\n",
            "2500/2500 [==============================] - 5s 2ms/step - loss: 2.3046 - accuracy: 0.0970 - val_loss: 2.4042 - val_accuracy: 0.1012\n",
            "Epoch 23/30\n",
            "2500/2500 [==============================] - 4s 2ms/step - loss: 2.3047 - accuracy: 0.0988 - val_loss: 2.4043 - val_accuracy: 0.1017\n",
            "Epoch 24/30\n",
            "2500/2500 [==============================] - 4s 2ms/step - loss: 2.3045 - accuracy: 0.1007 - val_loss: 2.4037 - val_accuracy: 0.1012\n",
            "Epoch 25/30\n",
            "2500/2500 [==============================] - 4s 2ms/step - loss: 2.3041 - accuracy: 0.1034 - val_loss: 2.4053 - val_accuracy: 0.1011\n",
            "Epoch 26/30\n",
            "2500/2500 [==============================] - 4s 2ms/step - loss: 2.3044 - accuracy: 0.0985 - val_loss: 2.4044 - val_accuracy: 0.0988\n",
            "Epoch 27/30\n",
            "2500/2500 [==============================] - 5s 2ms/step - loss: 2.3045 - accuracy: 0.0981 - val_loss: 2.4055 - val_accuracy: 0.1011\n",
            "Epoch 28/30\n",
            "2500/2500 [==============================] - 4s 2ms/step - loss: 2.3044 - accuracy: 0.1003 - val_loss: 2.4055 - val_accuracy: 0.1011\n",
            "Epoch 29/30\n",
            "2500/2500 [==============================] - 5s 2ms/step - loss: 2.3045 - accuracy: 0.0992 - val_loss: 2.4037 - val_accuracy: 0.0988\n",
            "Epoch 30/30\n",
            "2500/2500 [==============================] - 4s 2ms/step - loss: 2.3046 - accuracy: 0.1013 - val_loss: 2.4059 - val_accuracy: 0.1017\n"
          ],
          "name": "stdout"
        }
      ]
    },
    {
      "cell_type": "markdown",
      "metadata": {
        "id": "b0QJURWh-9uv"
      },
      "source": [
        "### Visualize the results\n",
        "\n",
        "Create charts for both loss and accuracy by epoch. Use line graphs for both charts. Analyze the results. \n",
        "\n",
        "At what point should we have stopped training the model and why? "
      ]
    },
    {
      "cell_type": "code",
      "metadata": {
        "id": "KONJtU5wqlXf",
        "colab": {
          "base_uri": "https://localhost:8080/"
        },
        "outputId": "79a3fcd9-bcaa-454d-b5f9-da410e42eea0"
      },
      "source": [
        "baseline.history"
      ],
      "execution_count": 27,
      "outputs": [
        {
          "output_type": "execute_result",
          "data": {
            "text/plain": [
              "{'accuracy': [0.09910000115633011,\n",
              "  0.10028749704360962,\n",
              "  0.09998749941587448,\n",
              "  0.10145000368356705,\n",
              "  0.09896250069141388,\n",
              "  0.09965000301599503,\n",
              "  0.10046249628067017,\n",
              "  0.10011249780654907,\n",
              "  0.09933750331401825,\n",
              "  0.09943749755620956,\n",
              "  0.09861250221729279,\n",
              "  0.09889999777078629,\n",
              "  0.0982000008225441,\n",
              "  0.09870000183582306,\n",
              "  0.09933750331401825,\n",
              "  0.10041250288486481,\n",
              "  0.09803750365972519,\n",
              "  0.09958750009536743,\n",
              "  0.09839999675750732,\n",
              "  0.0980750024318695,\n",
              "  0.10232499986886978,\n",
              "  0.09872499853372574,\n",
              "  0.09943749755620956,\n",
              "  0.10058750212192535,\n",
              "  0.10100000351667404,\n",
              "  0.09948749840259552,\n",
              "  0.09866250306367874,\n",
              "  0.0996749997138977,\n",
              "  0.09892500191926956,\n",
              "  0.10122500360012054],\n",
              " 'loss': [725212.875,\n",
              "  2.3045084476470947,\n",
              "  2.3044655323028564,\n",
              "  2.304394245147705,\n",
              "  2.304500102996826,\n",
              "  2.3043899536132812,\n",
              "  2.3044064044952393,\n",
              "  2.304274082183838,\n",
              "  2.3044979572296143,\n",
              "  2.3043298721313477,\n",
              "  2.304476022720337,\n",
              "  2.3044040203094482,\n",
              "  2.304542303085327,\n",
              "  2.3044490814208984,\n",
              "  2.3044888973236084,\n",
              "  2.304255485534668,\n",
              "  2.304534673690796,\n",
              "  2.3044240474700928,\n",
              "  2.304455280303955,\n",
              "  2.304323196411133,\n",
              "  2.304208755493164,\n",
              "  2.30456280708313,\n",
              "  2.304572343826294,\n",
              "  2.3044590950012207,\n",
              "  2.3042116165161133,\n",
              "  2.3044707775115967,\n",
              "  2.3044495582580566,\n",
              "  2.30440616607666,\n",
              "  2.304527521133423,\n",
              "  2.3044321537017822],\n",
              " 'val_accuracy': [0.09950000047683716,\n",
              "  0.09769999980926514,\n",
              "  0.09875000268220901,\n",
              "  0.09730000048875809,\n",
              "  0.10114999860525131,\n",
              "  0.10209999978542328,\n",
              "  0.09950000047683716,\n",
              "  0.09730000048875809,\n",
              "  0.10170000046491623,\n",
              "  0.09730000048875809,\n",
              "  0.09769999980926514,\n",
              "  0.09730000048875809,\n",
              "  0.10170000046491623,\n",
              "  0.10209999978542328,\n",
              "  0.10170000046491623,\n",
              "  0.09884999692440033,\n",
              "  0.10159999877214432,\n",
              "  0.09730000048875809,\n",
              "  0.10209999978542328,\n",
              "  0.09769999980926514,\n",
              "  0.09884999692440033,\n",
              "  0.10119999945163727,\n",
              "  0.10170000046491623,\n",
              "  0.10119999945163727,\n",
              "  0.10114999860525131,\n",
              "  0.09875000268220901,\n",
              "  0.10114999860525131,\n",
              "  0.10114999860525131,\n",
              "  0.09884999692440033,\n",
              "  0.10170000046491623],\n",
              " 'val_loss': [2.4053328037261963,\n",
              "  2.4046146869659424,\n",
              "  2.406846046447754,\n",
              "  2.4055871963500977,\n",
              "  2.4044857025146484,\n",
              "  2.4051098823547363,\n",
              "  2.4049012660980225,\n",
              "  2.406268835067749,\n",
              "  2.405029535293579,\n",
              "  2.4045512676239014,\n",
              "  2.404395818710327,\n",
              "  2.4050893783569336,\n",
              "  2.4040474891662598,\n",
              "  2.404892683029175,\n",
              "  2.4052937030792236,\n",
              "  2.4068610668182373,\n",
              "  2.4044766426086426,\n",
              "  2.4037740230560303,\n",
              "  2.4047296047210693,\n",
              "  2.4049758911132812,\n",
              "  2.4064688682556152,\n",
              "  2.404245138168335,\n",
              "  2.404322385787964,\n",
              "  2.403653860092163,\n",
              "  2.4053075313568115,\n",
              "  2.4043936729431152,\n",
              "  2.405548334121704,\n",
              "  2.4054901599884033,\n",
              "  2.4037439823150635,\n",
              "  2.4058854579925537]}"
            ]
          },
          "metadata": {
            "tags": []
          },
          "execution_count": 27
        }
      ]
    },
    {
      "cell_type": "code",
      "metadata": {
        "id": "ijAlzfYKAFaY",
        "colab": {
          "base_uri": "https://localhost:8080/",
          "height": 279
        },
        "outputId": "0bbafd70-9fe7-4cdd-c060-6c6429a20870"
      },
      "source": [
        "import seaborn as sns\n",
        "import pandas as pd\n",
        "\n",
        "df = pd.DataFrame.from_records(baseline.history)\n",
        "df['epoch'] = [i for i in range(df.shape[0])]\n",
        "\n",
        "ax = sns.lineplot(x='epoch', y='val_loss', data=df)\n",
        "ax = sns.lineplot(x='epoch', y='loss', data=df);"
      ],
      "execution_count": 28,
      "outputs": [
        {
          "output_type": "display_data",
          "data": {
            "image/png": "[encoded data removed]",
            "text/plain": [
              "<Figure size 432x288 with 1 Axes>"
            ]
          },
          "metadata": {
            "tags": [],
            "needs_background": "light"
          }
        }
      ]
    },
    {
      "cell_type": "markdown",
      "metadata": {
        "id": "MAhBrcE4yOZe"
      },
      "source": [
        "## Change Optimizers\n",
        "Try using the keras `adam` optimizer instead of `sgd` in your model. Visualize the difference in validation loss between the models with different optimizers. "
      ]
    },
    {
      "cell_type": "code",
      "metadata": {
        "id": "jIW_spOZ0cxy"
      },
      "source": [
        "from tensorflow.keras.optimizers import Adam\n",
        "\n",
        "def create_model_adam(units=32):\n",
        "  # create model\n",
        "  model = Sequential()\n",
        "  optimizer = Adam()\n",
        "\n",
        "  # First hidden layer \n",
        "  model.add(Dense(units, # number of neurons in our hidden layer\n",
        "                  input_dim=784, # implicitly declaring the input layer  \n",
        "                  activation='relu'))  \n",
        "\n",
        "  # Second hidden layer \n",
        "  model.add(Dense(units, # number of neurons in our hidden layer\n",
        "                  activation='relu'))  \n",
        "\n",
        "  # output layer \n",
        "  model.add(Dense(10, # 10 neurons in output layer for the number of categories\n",
        "                  activation='softmax'))\n",
        "\n",
        "  # Compile model\n",
        "  model.compile(loss='sparse_categorical_crossentropy', \n",
        "                optimizer=optimizer, \n",
        "                metrics=['accuracy'])\n",
        "  \n",
        "  return model"
      ],
      "execution_count": 36,
      "outputs": []
    },
    {
      "cell_type": "code",
      "metadata": {
        "colab": {
          "base_uri": "https://localhost:8080/"
        },
        "id": "90e4S2leDY0M",
        "outputId": "658a40dd-fe6a-4cae-8c87-95cc6ca19932"
      },
      "source": [
        "adam = create_model_adam(32).fit(X,\n",
        "                                 y,\n",
        "                                 epochs=30,\n",
        "                                 validation_split=0.2\n",
        "                                )"
      ],
      "execution_count": 37,
      "outputs": [
        {
          "output_type": "stream",
          "text": [
            "Epoch 1/30\n",
            "2500/2500 [==============================] - 5s 2ms/step - loss: 5.2294 - accuracy: 0.2840 - val_loss: 1.4354 - val_accuracy: 0.4676\n",
            "Epoch 2/30\n",
            "2500/2500 [==============================] - 5s 2ms/step - loss: 1.3467 - accuracy: 0.5239 - val_loss: 1.2308 - val_accuracy: 0.5588\n",
            "Epoch 3/30\n",
            "2500/2500 [==============================] - 5s 2ms/step - loss: 1.1949 - accuracy: 0.5886 - val_loss: 1.1272 - val_accuracy: 0.6306\n",
            "Epoch 4/30\n",
            "2500/2500 [==============================] - 5s 2ms/step - loss: 1.1173 - accuracy: 0.6282 - val_loss: 1.1172 - val_accuracy: 0.6374\n",
            "Epoch 5/30\n",
            "2500/2500 [==============================] - 5s 2ms/step - loss: 1.0757 - accuracy: 0.6452 - val_loss: 1.1210 - val_accuracy: 0.6443\n",
            "Epoch 6/30\n",
            "2500/2500 [==============================] - 5s 2ms/step - loss: 1.0369 - accuracy: 0.6611 - val_loss: 1.0204 - val_accuracy: 0.6930\n",
            "Epoch 7/30\n",
            "2500/2500 [==============================] - 5s 2ms/step - loss: 0.9853 - accuracy: 0.6819 - val_loss: 0.9896 - val_accuracy: 0.6875\n",
            "Epoch 8/30\n",
            "2500/2500 [==============================] - 5s 2ms/step - loss: 0.9561 - accuracy: 0.6944 - val_loss: 0.9786 - val_accuracy: 0.6869\n",
            "Epoch 9/30\n",
            "2500/2500 [==============================] - 5s 2ms/step - loss: 0.9287 - accuracy: 0.7057 - val_loss: 0.9785 - val_accuracy: 0.6920\n",
            "Epoch 10/30\n",
            "2500/2500 [==============================] - 5s 2ms/step - loss: 0.8946 - accuracy: 0.7271 - val_loss: 0.8800 - val_accuracy: 0.7332\n",
            "Epoch 11/30\n",
            "2500/2500 [==============================] - 5s 2ms/step - loss: 0.8478 - accuracy: 0.7435 - val_loss: 0.8554 - val_accuracy: 0.7437\n",
            "Epoch 12/30\n",
            "2500/2500 [==============================] - 5s 2ms/step - loss: 0.8232 - accuracy: 0.7509 - val_loss: 0.8513 - val_accuracy: 0.7484\n",
            "Epoch 13/30\n",
            "2500/2500 [==============================] - 5s 2ms/step - loss: 0.8143 - accuracy: 0.7524 - val_loss: 0.8362 - val_accuracy: 0.7473\n",
            "Epoch 14/30\n",
            "2500/2500 [==============================] - 5s 2ms/step - loss: 0.7990 - accuracy: 0.7595 - val_loss: 0.8106 - val_accuracy: 0.7606\n",
            "Epoch 15/30\n",
            "2500/2500 [==============================] - 5s 2ms/step - loss: 0.7798 - accuracy: 0.7654 - val_loss: 0.8313 - val_accuracy: 0.7414\n",
            "Epoch 16/30\n",
            "2500/2500 [==============================] - 5s 2ms/step - loss: 0.7805 - accuracy: 0.7634 - val_loss: 0.8050 - val_accuracy: 0.7545\n",
            "Epoch 17/30\n",
            "2500/2500 [==============================] - 5s 2ms/step - loss: 0.7687 - accuracy: 0.7686 - val_loss: 0.7998 - val_accuracy: 0.7610\n",
            "Epoch 18/30\n",
            "2500/2500 [==============================] - 5s 2ms/step - loss: 0.7602 - accuracy: 0.7704 - val_loss: 0.8044 - val_accuracy: 0.7502\n",
            "Epoch 19/30\n",
            "2500/2500 [==============================] - 5s 2ms/step - loss: 0.7556 - accuracy: 0.7725 - val_loss: 0.7996 - val_accuracy: 0.7613\n",
            "Epoch 20/30\n",
            "2500/2500 [==============================] - 5s 2ms/step - loss: 0.7559 - accuracy: 0.7745 - val_loss: 0.8159 - val_accuracy: 0.7557\n",
            "Epoch 21/30\n",
            "2500/2500 [==============================] - 5s 2ms/step - loss: 0.7492 - accuracy: 0.7741 - val_loss: 0.8119 - val_accuracy: 0.7525\n",
            "Epoch 22/30\n",
            "2500/2500 [==============================] - 5s 2ms/step - loss: 0.7521 - accuracy: 0.7745 - val_loss: 0.7897 - val_accuracy: 0.7646\n",
            "Epoch 23/30\n",
            "2500/2500 [==============================] - 5s 2ms/step - loss: 0.7347 - accuracy: 0.7804 - val_loss: 0.7844 - val_accuracy: 0.7706\n",
            "Epoch 24/30\n",
            "2500/2500 [==============================] - 5s 2ms/step - loss: 0.7408 - accuracy: 0.7787 - val_loss: 0.7881 - val_accuracy: 0.7641\n",
            "Epoch 25/30\n",
            "2500/2500 [==============================] - 5s 2ms/step - loss: 0.7363 - accuracy: 0.7789 - val_loss: 0.7885 - val_accuracy: 0.7576\n",
            "Epoch 26/30\n",
            "2500/2500 [==============================] - 5s 2ms/step - loss: 0.7291 - accuracy: 0.7796 - val_loss: 0.7892 - val_accuracy: 0.7577\n",
            "Epoch 27/30\n",
            "2500/2500 [==============================] - 5s 2ms/step - loss: 0.7195 - accuracy: 0.7825 - val_loss: 0.7704 - val_accuracy: 0.7700\n",
            "Epoch 28/30\n",
            "2500/2500 [==============================] - 5s 2ms/step - loss: 0.7239 - accuracy: 0.7854 - val_loss: 0.7987 - val_accuracy: 0.7582\n",
            "Epoch 29/30\n",
            "2500/2500 [==============================] - 5s 2ms/step - loss: 0.7138 - accuracy: 0.7857 - val_loss: 0.7865 - val_accuracy: 0.7688\n",
            "Epoch 30/30\n",
            "2500/2500 [==============================] - 5s 2ms/step - loss: 0.7222 - accuracy: 0.7848 - val_loss: 0.7887 - val_accuracy: 0.7678\n"
          ],
          "name": "stdout"
        }
      ]
    },
    {
      "cell_type": "code",
      "metadata": {
        "colab": {
          "base_uri": "https://localhost:8080/",
          "height": 279
        },
        "id": "4kgx0Hv2DySb",
        "outputId": "9b0cbc05-7656-43e7-9bdb-49217d6240f1"
      },
      "source": [
        "df = pd.DataFrame.from_records(adam.history)\n",
        "df['epoch'] = [i for i in range(df.shape[0])]\n",
        "\n",
        "ax = sns.lineplot(x='epoch', y='val_loss', data=df)\n",
        "ax = sns.lineplot(x='epoch', y='loss', data=df);"
      ],
      "execution_count": 38,
      "outputs": [
        {
          "output_type": "display_data",
          "data": {
            "image/png": "[encoded data removed]",
            "text/plain": [
              "<Figure size 432x288 with 1 Axes>"
            ]
          },
          "metadata": {
            "tags": [],
            "needs_background": "light"
          }
        }
      ]
    },
    {
      "cell_type": "markdown",
      "metadata": {
        "id": "EJrbh3qryi4w"
      },
      "source": [
        "### Additional Written Tasks:\n",
        "In this section, you will need to search for resources: \n",
        "1. Investigate the various [loss functions](https://www.tensorflow.org/api_docs/python/tf/keras/losses). Which is best suited for the task at hand (predicting 1 / 0) and why? \n",
        "  * For the model fit above a well suited `loss function` is `sparse_categorical_crossentropy` because there are more than two categories for the model to predict. \n",
        "  * For the model example (predicting 0/1) a well suited loss function is `BinaryCrossentropy` as it is works well for predicting one of two category options.\n",
        "2. What is the difference between a loss function and a metric? Why might we need both in Keras? \n",
        "  * The loss function is used in the model to optimize the model overall. The metric is used to evaluate the performance of the model as a whole. Both are needed in Keras in order to make the most optimized and best performing model.\n",
        "3. Investigate the various [optimizers](https://www.tensorflow.org/api_docs/python/tf/keras/optimizers). Stochastic Gradient Descent (`sgd`) is not the learning algorithm dejour anyone. Why is that? What do newer optimizers such as `adam` have to offer? \n",
        "  * SGD is no longer the algorithm dejour because it may take longer than newer optimizers to find the minimum. Additionally it is not adaptive and therefore may get stuck in a saddle point rather than the true minimum. Adam is adaptive and acts faster. "
      ]
    },
    {
      "cell_type": "markdown",
      "metadata": {
        "id": "Gzs4fd-RynDd"
      },
      "source": [
        "## Stretch Goals: \n",
        "\n",
        "- Research convolutional neural networks and try including convolution layers in your network.\n",
        "- Pick two classes and make QuickDraw a binary classification problem, how does your model architecture change?\n",
        "- Implement Cross Validation model evaluation on your Quickdraw implementation \n",
        "\n",
        "Watch some more videos on Gradient Descent:\n",
        "- [Gradient Descent, Step-by-Step](https://www.youtube.com/watch?v=sDv4f4s2SB8)  by StatQuest w/ Josh Starmer. This will help you understand the gradient descent based optimization that happens underneath the hood of neural networks. It uses a non-neural network example, which I believe is a gentler introduction. You will hear me refer to this technique as \"vanilla\" gradient descent. \n",
        "- [Stochastic Gradient Descent, Clearly Explained!!!](https://www.youtube.com/watch?v=vMh0zPT0tLI) by StatQuest w/ Josh Starmer. This builds on the techniques in the previous video.  This technique is the one that is actually implemented inside modern 'nets. \n",
        "- [Siraj Raval the evolution of gradient descent](https://www.youtube.com/watch?v=nhqo0u1a6fw)"
      ]
    }
  ]
}